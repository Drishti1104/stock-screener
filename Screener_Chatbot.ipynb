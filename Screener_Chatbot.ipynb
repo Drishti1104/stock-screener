{
  "nbformat": 4,
  "nbformat_minor": 0,
  "metadata": {
    "colab": {
      "provenance": []
    },
    "kernelspec": {
      "name": "python3",
      "display_name": "Python 3"
    },
    "language_info": {
      "name": "python"
    }
  },
  "cells": [
    {
      "cell_type": "code",
      "source": [
        "!pip install -q google-generativeai"
      ],
      "metadata": {
        "id": "XFSmlyW3T8bc"
      },
      "execution_count": null,
      "outputs": []
    },
    {
      "cell_type": "code",
      "source": [
        "import os\n",
        "if 'COLAB_RELEASE_TAG' in os.environ:\n",
        "  from google.colab import userdata\n",
        "  import pathlib\n",
        "  pathlib.Path('client_secret.json').write_text(userdata.get('CLIENT_SECRET'))\n",
        "\n",
        "  # Use `--no-browser` in colab\n",
        "  !gcloud auth application-default login --no-browser --client-id-file client_secret.json --scopes='https://www.googleapis.com/auth/cloud-platform,https://www.googleapis.com/auth/generative-language.tuning'\n",
        "else:\n",
        "  !gcloud auth application-default login --client-id-file \\\n",
        "  client_secret.json --scopes=\\\n",
        "  'https://www.googleapis.com/auth/cloud-platform,\\\n",
        "  https://www.googleapis.com/auth/generative-language.tuning'"
      ],
      "metadata": {
        "colab": {
          "base_uri": "https://localhost:8080/"
        },
        "id": "gO__H1QKZtBM",
        "outputId": "48a6b56e-b36d-4f4c-c7fc-517433b87bbe"
      },
      "execution_count": null,
      "outputs": [
        {
          "output_type": "stream",
          "name": "stdout",
          "text": [
            "You are authorizing client libraries without access to a web browser. Please run the following command on a machine with a web browser and copy its output back here. Make sure the installed gcloud version is 372.0.0 or newer.\n",
            "\n",
            "gcloud auth application-default login --remote-bootstrap=\"https://accounts.google.com/o/oauth2/auth?response_type=code&client_id=1069019391080-ohphh6dj6hv1nfjingttspfk44n03hih.apps.googleusercontent.com&scope=https%3A%2F%2Fwww.googleapis.com%2Fauth%2Fcloud-platform+https%3A%2F%2Fwww.googleapis.com%2Fauth%2Fgenerative-language.tuning&state=yZxVlci8xct7RwpaFrqyf5i3onX5pG&access_type=offline&code_challenge=qG2ABUVX3Zyy8ScDR7e351635A6I1vkV6Z_4qXTD3yk&code_challenge_method=S256&token_usage=remote\"\n",
            "\n",
            "\n",
            "Enter the output of the above command: https://localhost:8085/?state=yZxVlci8xct7RwpaFrqyf5i3onX5pG&code=4/0AeaYSHBXr-j8WmADkKgOPNElfdwUkEiGsFalShAygJW_HpUafQBqQ3iFexg8-CbjYaG8Lg&scope=https://www.googleapis.com/auth/cloud-platform%20https://www.googleapis.com/auth/generative-language.tuning\n",
            "\n",
            "Credentials saved to file: [/content/.config/application_default_credentials.json]\n",
            "\n",
            "These credentials will be used by any library that requests Application Default Credentials (ADC).\n"
          ]
        }
      ]
    },
    {
      "cell_type": "code",
      "source": [
        "import google.generativeai as genai"
      ],
      "metadata": {
        "id": "Jm_bpqENolCb"
      },
      "execution_count": null,
      "outputs": []
    },
    {
      "cell_type": "code",
      "source": [
        "model = genai.GenerativeModel(model_name='tunedModels/screenerchatbotnew-2k5nwoqqi9jz')"
      ],
      "metadata": {
        "id": "a_3V_sK2hRoH"
      },
      "execution_count": null,
      "outputs": []
    },
    {
      "cell_type": "code",
      "source": [
        "def get_response(question):\n",
        "  res = model.generate_content(question)\n",
        "  return res.text.replace(\"*\", \"\")"
      ],
      "metadata": {
        "id": "CSp-V3Behdpu"
      },
      "execution_count": null,
      "outputs": []
    },
    {
      "cell_type": "code",
      "source": [
        "while True:\n",
        "  option = int(input(\"\\n\\n\\n********************Welcome********************\\n1. Ask query\\n2.Exit\\nEnter option number: \"))\n",
        "  if option == 1:\n",
        "    question = input(\"\\nAsk your query: \")\n",
        "    print(get_response(question))\n",
        "  elif option == 2:\n",
        "    break\n",
        "  else:\n",
        "    print(\"Invalid option number\")"
      ],
      "metadata": {
        "id": "UhMubYvSjK_X",
        "outputId": "36ffa9b1-e3cb-4180-b797-6ae254abb004",
        "colab": {
          "base_uri": "https://localhost:8080/"
        }
      },
      "execution_count": 40,
      "outputs": [
        {
          "name": "stdout",
          "output_type": "stream",
          "text": [
            "\n",
            "\n",
            "\n",
            "********************Welcome********************\n",
            "1. Ask query\n",
            "2.Exit\n",
            "Enter option number: 1\n",
            "\n",
            "Ask your query: what is pe ratio\n",
            "Price-to-Earnings Ratio (PE Ratio)\n",
            "\n",
            "Definition:\n",
            "\n",
            "The price-to-earnings ratio (PE ratio) is a financial metric that measures the market value of a company relative to its earnings per share (EPS). It indicates how much investors are willing to pay for each dollar of earnings.\n",
            "\n",
            "Formula:\n",
            "\n",
            "PE Ratio = Market Price per Share / Earnings per Share\n",
            "\n",
            "Interpretation:\n",
            "\n",
            " High PE Ratio: Indicates that investors are willing to pay a premium for the company's earnings, suggesting growth potential or market optimism.\n",
            " Low PE Ratio: Indicates that investors are paying less for each dollar of earnings, suggesting undervaluation or market pessimism.\n",
            "\n",
            "Uses:\n",
            "\n",
            " Company Valuation: Compares the market value of a company to its earnings to assess its relative value.\n",
            " Industry Comparison: Benchmarks a company's PE ratio against industry peers to identify potential overvaluation or undervaluation.\n",
            " Investment Decision-Making: Helps investors determine whether a stock is fairly priced or over/undervalued.\n",
            "\n",
            "Factors Affecting PE Ratio:\n",
            "\n",
            " Earnings growth potential\n",
            " Industry dynamics\n",
            " Interest rates\n",
            " Market sentiment\n",
            "\n",
            "Limitations:\n",
            "\n",
            " Can be misleading if earnings are volatile or non-recurring.\n",
            " Does not consider other financial metrics, such as debt or cash flow.\n",
            " Can be influenced by accounting practices and industry-specific factors.\n",
            "\n",
            "\n",
            "\n",
            "********************Welcome********************\n",
            "1. Ask query\n",
            "2.Exit\n",
            "Enter option number: 1\n",
            "\n",
            "Ask your query: what is market capitalization and why is it important?\n",
            "Market Capitalization\n",
            "\n",
            "Market capitalization (market cap) is the total value of a company's outstanding shares. It is calculated by multiplying the current share price by the number of shares outstanding.\n",
            "\n",
            "Formula: Market Cap = Share Price x Number of Shares Outstanding\n",
            "\n",
            "Importance of Market Capitalization\n",
            "\n",
            "Market capitalization is an important metric for several reasons:\n",
            "\n",
            " Company Size: It provides a measure of a company's size and scale. Larger market caps indicate larger companies with more resources and influence.\n",
            " Investment Potential: Market cap can help investors identify potential investment opportunities. Companies with high market caps are often considered more stable and less risky.\n",
            " Index Inclusion: Market cap is used to determine which companies are included in stock market indices, such as the S&P 500 and Nasdaq 100.\n",
            " Valuation: Market cap is a key factor in valuing a company. It can be used to compare companies of similar size and industry.\n",
            " Market Sentiment: Changes in market cap can reflect investor sentiment towards a company. A rising market cap may indicate positive sentiment, while a falling market cap may indicate negative sentiment.\n",
            " Liquidity: Market cap is related to liquidity, as companies with higher market caps tend to have more actively traded shares.\n",
            " Risk Assessment: Market cap can be used to assess risk. Companies with lower market caps are generally considered more volatile and risky.\n",
            "\n",
            "Types of Market Capitalization\n",
            "\n",
            " Small-Cap: Companies with market caps below $2 billion\n",
            " Mid-Cap: Companies with market caps between $2 billion and $10 billion\n",
            " Large-Cap: Companies with market caps above $10 billion\n",
            "\n",
            "\n",
            "\n",
            "********************Welcome********************\n",
            "1. Ask query\n",
            "2.Exit\n",
            "Enter option number: 2\n"
          ]
        }
      ]
    },
    {
      "cell_type": "code",
      "source": [
        "# what is pe ratio\n",
        "# what is market capitalization and why is it important?"
      ],
      "metadata": {
        "id": "0UOgFhCqlOU6"
      },
      "execution_count": null,
      "outputs": []
    }
  ]
}